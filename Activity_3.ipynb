{
  "nbformat": 4,
  "nbformat_minor": 0,
  "metadata": {
    "colab": {
      "provenance": [],
      "authorship_tag": "ABX9TyPFH1sbbCn+YeH5Wmxq1Eji",
      "include_colab_link": true
    },
    "kernelspec": {
      "name": "python3",
      "display_name": "Python 3"
    },
    "language_info": {
      "name": "python"
    }
  },
  "cells": [
    {
      "cell_type": "markdown",
      "metadata": {
        "id": "view-in-github",
        "colab_type": "text"
      },
      "source": [
        "<a href=\"https://colab.research.google.com/github/devopsmeysam/Machine-Learning-Code/blob/master/Activity_3.ipynb\" target=\"_parent\"><img src=\"https://colab.research.google.com/assets/colab-badge.svg\" alt=\"Open In Colab\"/></a>"
      ]
    },
    {
      "cell_type": "markdown",
      "source": [
        "Create a constant tensor (2,2) which is essentially an array of array. Explore different properties of x."
      ],
      "metadata": {
        "id": "gwdZ97tyI8mK"
      }
    },
    {
      "cell_type": "code",
      "execution_count": null,
      "metadata": {
        "colab": {
          "base_uri": "https://localhost:8080/",
          "height": 122
        },
        "id": "ZXFfpp_XbBfD",
        "outputId": "4faba5f5-f9ad-47d6-e364-b36de99376b5"
      },
      "outputs": [
        {
          "output_type": "stream",
          "name": "stdout",
          "text": [
            "tf.Tensor(\n",
            "[[5 2]\n",
            " [1 3]], shape=(2, 2), dtype=int32)\n",
            "\n",
            "\n"
          ]
        },
        {
          "output_type": "execute_result",
          "data": {
            "text/plain": [
              "'/job:localhost/replica:0/task:0/device:CPU:0'"
            ],
            "application/vnd.google.colaboratory.intrinsic+json": {
              "type": "string"
            }
          },
          "metadata": {},
          "execution_count": 28
        }
      ],
      "source": [
        "import tensorflow as tf\n",
        "#print(tf.__version__)\n",
        "#help(tf)\n",
        "#help(tf.keras)\n",
        "x=tf.constant([[5,2],[1,3]])\n",
        "#x\n",
        "print(x)\n",
        "#x.numpy()\n",
        "#x.dtype\n",
        "#x.shape\n",
        "print(\"\\n\")\n",
        "x.backing_device"
      ]
    },
    {
      "cell_type": "markdown",
      "source": [
        "Create a two-dimensional array with TensorFlow, using the \"ones\" function:"
      ],
      "metadata": {
        "id": "s68AFtMUJEeL"
      }
    },
    {
      "cell_type": "code",
      "source": [
        "import tensorflow as tf\n",
        "tf.ones(shape=(5,5))"
      ],
      "metadata": {
        "colab": {
          "base_uri": "https://localhost:8080/"
        },
        "id": "b0CJ8eFOIimT",
        "outputId": "68e29a7d-d065-4b0b-9ec6-744d9c92546c"
      },
      "execution_count": null,
      "outputs": [
        {
          "output_type": "execute_result",
          "data": {
            "text/plain": [
              "<tf.Tensor: shape=(5, 5), dtype=float32, numpy=\n",
              "array([[1., 1., 1., 1., 1.],\n",
              "       [1., 1., 1., 1., 1.],\n",
              "       [1., 1., 1., 1., 1.],\n",
              "       [1., 1., 1., 1., 1.],\n",
              "       [1., 1., 1., 1., 1.]], dtype=float32)>"
            ]
          },
          "metadata": {},
          "execution_count": 29
        }
      ]
    },
    {
      "cell_type": "markdown",
      "source": [
        "Create a two-dimensional array with TensorFlow, using the \"zeros\" function:"
      ],
      "metadata": {
        "id": "S4BP_MSFJK_2"
      }
    },
    {
      "cell_type": "code",
      "source": [
        "tf.zeros(shape=(3,4))"
      ],
      "metadata": {
        "colab": {
          "base_uri": "https://localhost:8080/"
        },
        "id": "z1Lzugt2JQMF",
        "outputId": "fb9bfcb8-5017-4d03-f5d9-0743b951c9b1"
      },
      "execution_count": null,
      "outputs": [
        {
          "output_type": "execute_result",
          "data": {
            "text/plain": [
              "<tf.Tensor: shape=(3, 4), dtype=float32, numpy=\n",
              "array([[0., 0., 0., 0.],\n",
              "       [0., 0., 0., 0.],\n",
              "       [0., 0., 0., 0.]], dtype=float32)>"
            ]
          },
          "metadata": {},
          "execution_count": 30
        }
      ]
    },
    {
      "cell_type": "markdown",
      "source": [
        "Create a two-dimensional array with TensorFlow, using the \"random\" function:"
      ],
      "metadata": {
        "id": "goVQOycPJguZ"
      }
    },
    {
      "cell_type": "code",
      "source": [
        "tf.random.normal(shape=(3,4))"
      ],
      "metadata": {
        "colab": {
          "base_uri": "https://localhost:8080/"
        },
        "id": "GKne6fkfJiTG",
        "outputId": "ce53241d-d178-41a3-f0af-9bba46afbe83"
      },
      "execution_count": null,
      "outputs": [
        {
          "output_type": "execute_result",
          "data": {
            "text/plain": [
              "<tf.Tensor: shape=(3, 4), dtype=float32, numpy=\n",
              "array([[-0.514782  , -0.10240368, -0.04734909, -2.4316142 ],\n",
              "       [-0.8908117 , -0.0492361 , -0.70011795, -0.03275777],\n",
              "       [-0.66164464,  0.9805981 , -0.77149636,  0.02135159]],\n",
              "      dtype=float32)>"
            ]
          },
          "metadata": {},
          "execution_count": 31
        }
      ]
    },
    {
      "cell_type": "markdown",
      "source": [
        "Now, create another two-dimensional array, but this time with a mean of 5 and a standard deviation of 3:"
      ],
      "metadata": {
        "id": "3vujTJQMJofp"
      }
    },
    {
      "cell_type": "code",
      "source": [
        "tf.random.normal(shape=(2,3),mean =5 , stddev=3)"
      ],
      "metadata": {
        "colab": {
          "base_uri": "https://localhost:8080/"
        },
        "id": "zgIIXq0HJrjh",
        "outputId": "8f51cb02-21d2-4c19-d100-ea604292ec88"
      },
      "execution_count": null,
      "outputs": [
        {
          "output_type": "execute_result",
          "data": {
            "text/plain": [
              "<tf.Tensor: shape=(2, 3), dtype=float32, numpy=\n",
              "array([[5.025781 , 4.3081846, 4.065384 ],\n",
              "       [6.9249125, 7.2459483, 3.1603222]], dtype=float32)>"
            ]
          },
          "metadata": {},
          "execution_count": 32
        }
      ]
    },
    {
      "cell_type": "markdown",
      "source": [
        "Create variable tensors with the corresponding methods :"
      ],
      "metadata": {
        "id": "Rzi390qiJFgu"
      }
    },
    {
      "cell_type": "code",
      "source": [
        "import tensorflow as tf\n",
        "xvar=tf.random.normal(shape=(3,3))\n",
        "xvar"
      ],
      "metadata": {
        "colab": {
          "base_uri": "https://localhost:8080/"
        },
        "id": "waoTXKv8JlXs",
        "outputId": "16fe332d-0b1c-471c-8290-56de14759c64"
      },
      "execution_count": 3,
      "outputs": [
        {
          "output_type": "execute_result",
          "data": {
            "text/plain": [
              "<tf.Tensor: shape=(3, 3), dtype=float32, numpy=\n",
              "array([[-0.41206053, -0.32641292, -0.20028466],\n",
              "       [ 0.6876914 , -0.01278838, -0.43997365],\n",
              "       [ 0.1969185 , -0.5883358 ,  0.2978274 ]], dtype=float32)>"
            ]
          },
          "metadata": {},
          "execution_count": 3
        }
      ]
    },
    {
      "cell_type": "code",
      "source": [
        "a=tf.Variable(xvar)\n",
        "a"
      ],
      "metadata": {
        "colab": {
          "base_uri": "https://localhost:8080/"
        },
        "id": "4P-zYuhAKKw4",
        "outputId": "3ca2570c-752d-4fb7-a773-3357abdfb18d"
      },
      "execution_count": 5,
      "outputs": [
        {
          "output_type": "execute_result",
          "data": {
            "text/plain": [
              "<tf.Variable 'Variable:0' shape=(3, 3) dtype=float32, numpy=\n",
              "array([[-0.41206053, -0.32641292, -0.20028466],\n",
              "       [ 0.6876914 , -0.01278838, -0.43997365],\n",
              "       [ 0.1969185 , -0.5883358 ,  0.2978274 ]], dtype=float32)>"
            ]
          },
          "metadata": {},
          "execution_count": 5
        }
      ]
    },
    {
      "cell_type": "code",
      "source": [
        "a.assign(tf.random.normal(shape=(3,3)))"
      ],
      "metadata": {
        "colab": {
          "base_uri": "https://localhost:8080/"
        },
        "id": "--YdPsK1KPgE",
        "outputId": "f4ac018e-328b-4cbd-9d23-933c3d066449"
      },
      "execution_count": 6,
      "outputs": [
        {
          "output_type": "execute_result",
          "data": {
            "text/plain": [
              "<tf.Variable 'UnreadVariable' shape=(3, 3) dtype=float32, numpy=\n",
              "array([[ 0.07001999, -0.87092555,  0.18629777],\n",
              "       [-0.9532621 , -1.0346274 ,  0.6129679 ],\n",
              "       [-0.17073452,  0.97113585,  0.44412202]], dtype=float32)>"
            ]
          },
          "metadata": {},
          "execution_count": 6
        }
      ]
    },
    {
      "cell_type": "code",
      "source": [
        "xvar_t_add=tf.random.normal(shape=(3,3))\n",
        "xvar_t_add"
      ],
      "metadata": {
        "colab": {
          "base_uri": "https://localhost:8080/"
        },
        "id": "NZ4VJdEXKe0W",
        "outputId": "a7c6554b-b8e9-4eac-a446-80e72a7fd5c1"
      },
      "execution_count": 8,
      "outputs": [
        {
          "output_type": "execute_result",
          "data": {
            "text/plain": [
              "<tf.Tensor: shape=(3, 3), dtype=float32, numpy=\n",
              "array([[ 0.13417143, -0.4249585 ,  1.1207068 ],\n",
              "       [ 0.96420425,  1.2056038 , -0.7520308 ],\n",
              "       [ 0.34190425,  1.3119246 , -2.401625  ]], dtype=float32)>"
            ]
          },
          "metadata": {},
          "execution_count": 8
        }
      ]
    },
    {
      "cell_type": "code",
      "source": [
        "a.assign_add(xvar_t_add)"
      ],
      "metadata": {
        "colab": {
          "base_uri": "https://localhost:8080/"
        },
        "id": "F7vznFY6K5mz",
        "outputId": "a8a50bbb-7690-4fe6-d51a-70802df0e0bd"
      },
      "execution_count": 9,
      "outputs": [
        {
          "output_type": "execute_result",
          "data": {
            "text/plain": [
              "<tf.Variable 'UnreadVariable' shape=(3, 3) dtype=float32, numpy=\n",
              "array([[ 0.20419142, -1.295884  ,  1.3070046 ],\n",
              "       [ 0.01094216,  0.1709764 , -0.13906288],\n",
              "       [ 0.17116973,  2.2830606 , -1.9575028 ]], dtype=float32)>"
            ]
          },
          "metadata": {},
          "execution_count": 9
        }
      ]
    },
    {
      "cell_type": "code",
      "source": [
        "a.assign_sub(xvar_t_add)"
      ],
      "metadata": {
        "colab": {
          "base_uri": "https://localhost:8080/"
        },
        "id": "-uDpdsmQLFbb",
        "outputId": "0c318fde-7cf9-4c82-fca2-09372d1a0a3a"
      },
      "execution_count": 10,
      "outputs": [
        {
          "output_type": "execute_result",
          "data": {
            "text/plain": [
              "<tf.Variable 'UnreadVariable' shape=(3, 3) dtype=float32, numpy=\n",
              "array([[ 0.07001999, -0.87092555,  0.18629777],\n",
              "       [-0.9532621 , -1.0346274 ,  0.6129679 ],\n",
              "       [-0.17073452,  0.971136  ,  0.44412208]], dtype=float32)>"
            ]
          },
          "metadata": {},
          "execution_count": 10
        }
      ]
    },
    {
      "cell_type": "markdown",
      "source": [
        "New Operations:"
      ],
      "metadata": {
        "id": "cHAfWGFzLVip"
      }
    },
    {
      "cell_type": "code",
      "source": [
        "new_value=tf.random.normal(shape=(3,3))\n",
        "new_value"
      ],
      "metadata": {
        "colab": {
          "base_uri": "https://localhost:8080/"
        },
        "id": "gX1Ch1C2LYiR",
        "outputId": "a63851ae-aa29-4b89-a6d0-9af2dbd1aaf8"
      },
      "execution_count": 11,
      "outputs": [
        {
          "output_type": "execute_result",
          "data": {
            "text/plain": [
              "<tf.Tensor: shape=(3, 3), dtype=float32, numpy=\n",
              "array([[-1.4486506 , -0.9093869 , -0.01833314],\n",
              "       [-0.6150971 ,  0.804267  ,  0.40893623],\n",
              "       [ 0.15566841,  0.5909714 ,  1.7716775 ]], dtype=float32)>"
            ]
          },
          "metadata": {},
          "execution_count": 11
        }
      ]
    },
    {
      "cell_type": "code",
      "source": [
        "a"
      ],
      "metadata": {
        "colab": {
          "base_uri": "https://localhost:8080/"
        },
        "id": "FkYXITo1L5ti",
        "outputId": "2d52b53b-76f7-4bb4-ba4c-e36d9c1c9ab8"
      },
      "execution_count": 12,
      "outputs": [
        {
          "output_type": "execute_result",
          "data": {
            "text/plain": [
              "<tf.Variable 'Variable:0' shape=(3, 3) dtype=float32, numpy=\n",
              "array([[ 0.07001999, -0.87092555,  0.18629777],\n",
              "       [-0.9532621 , -1.0346274 ,  0.6129679 ],\n",
              "       [-0.17073452,  0.971136  ,  0.44412208]], dtype=float32)>"
            ]
          },
          "metadata": {},
          "execution_count": 12
        }
      ]
    },
    {
      "cell_type": "code",
      "source": [
        "a.assign_add(new_value)"
      ],
      "metadata": {
        "colab": {
          "base_uri": "https://localhost:8080/"
        },
        "id": "TIaH5nZBL9G4",
        "outputId": "9b6760b2-099a-4e5c-ddbc-84d4601cf356"
      },
      "execution_count": 13,
      "outputs": [
        {
          "output_type": "execute_result",
          "data": {
            "text/plain": [
              "<tf.Variable 'UnreadVariable' shape=(3, 3) dtype=float32, numpy=\n",
              "array([[-1.3786306 , -1.7803124 ,  0.16796464],\n",
              "       [-1.5683591 , -0.23036045,  1.0219041 ],\n",
              "       [-0.01506612,  1.5621073 ,  2.2157996 ]], dtype=float32)>"
            ]
          },
          "metadata": {},
          "execution_count": 13
        }
      ]
    },
    {
      "cell_type": "code",
      "source": [
        "b=tf.random.normal(shape=(3,3))\n",
        "b"
      ],
      "metadata": {
        "colab": {
          "base_uri": "https://localhost:8080/"
        },
        "id": "btomF0N7MArX",
        "outputId": "9e46b026-aa96-487d-e32c-4789e03b364c"
      },
      "execution_count": 14,
      "outputs": [
        {
          "output_type": "execute_result",
          "data": {
            "text/plain": [
              "<tf.Tensor: shape=(3, 3), dtype=float32, numpy=\n",
              "array([[ 1.3282992 , -0.92686814,  0.16322441],\n",
              "       [-0.19672227,  0.50247   , -0.1393468 ],\n",
              "       [-1.4557648 ,  0.41720596, -0.39894986]], dtype=float32)>"
            ]
          },
          "metadata": {},
          "execution_count": 14
        }
      ]
    },
    {
      "cell_type": "code",
      "source": [
        "c=a+b\n",
        "c"
      ],
      "metadata": {
        "colab": {
          "base_uri": "https://localhost:8080/"
        },
        "id": "Szg3yQ16MFQX",
        "outputId": "4e1e3e91-5ae4-45b0-eea1-d73819369a07"
      },
      "execution_count": 15,
      "outputs": [
        {
          "output_type": "execute_result",
          "data": {
            "text/plain": [
              "<tf.Tensor: shape=(3, 3), dtype=float32, numpy=\n",
              "array([[-0.05033147, -2.7071805 ,  0.33118904],\n",
              "       [-1.7650814 ,  0.27210957,  0.88255733],\n",
              "       [-1.4708309 ,  1.9793133 ,  1.8168497 ]], dtype=float32)>"
            ]
          },
          "metadata": {},
          "execution_count": 15
        }
      ]
    },
    {
      "cell_type": "code",
      "source": [
        "d=tf.square(c)\n",
        "d"
      ],
      "metadata": {
        "colab": {
          "base_uri": "https://localhost:8080/"
        },
        "id": "3azm1ILUMTcj",
        "outputId": "59dfed4f-6c59-4007-d725-57f2a5bfc79a"
      },
      "execution_count": 16,
      "outputs": [
        {
          "output_type": "execute_result",
          "data": {
            "text/plain": [
              "<tf.Tensor: shape=(3, 3), dtype=float32, numpy=\n",
              "array([[2.5332572e-03, 7.3288264e+00, 1.0968618e-01],\n",
              "       [3.1155124e+00, 7.4043617e-02, 7.7890742e-01],\n",
              "       [2.1633437e+00, 3.9176810e+00, 3.3009429e+00]], dtype=float32)>"
            ]
          },
          "metadata": {},
          "execution_count": 16
        }
      ]
    },
    {
      "cell_type": "code",
      "source": [
        "e=tf.exp(c)\n",
        "e"
      ],
      "metadata": {
        "colab": {
          "base_uri": "https://localhost:8080/"
        },
        "id": "riyMPvFSMg7a",
        "outputId": "9d06dcd4-a902-4abc-a862-6dfd69f884da"
      },
      "execution_count": 17,
      "outputs": [
        {
          "output_type": "execute_result",
          "data": {
            "text/plain": [
              "<tf.Tensor: shape=(3, 3), dtype=float32, numpy=\n",
              "array([[0.95091414, 0.06672467, 1.3926231 ],\n",
              "       [0.17117286, 1.3127308 , 2.4170732 ],\n",
              "       [0.22973451, 7.2377706 , 6.152446  ]], dtype=float32)>"
            ]
          },
          "metadata": {},
          "execution_count": 17
        }
      ]
    },
    {
      "cell_type": "code",
      "source": [
        "with tf.GradientTape() as tape:\n",
        "    tape.watch(a)\n",
        "    f=tf.sqrt(tf.square(a)+tf.square(b))\n",
        "    df_da=tape.gradient(f,a)\n",
        "    print(df_da)"
      ],
      "metadata": {
        "colab": {
          "base_uri": "https://localhost:8080/"
        },
        "id": "jf9Nk7ElNAgk",
        "outputId": "1a91e096-0f89-4656-ecdb-08e256c0aefa"
      },
      "execution_count": 18,
      "outputs": [
        {
          "output_type": "stream",
          "name": "stdout",
          "text": [
            "tf.Tensor(\n",
            "[[-0.72012997 -0.8869912   0.71715397]\n",
            " [-0.99222505 -0.41674694  0.9908307 ]\n",
            " [-0.01034873  0.96613574  0.98417515]], shape=(3, 3), dtype=float32)\n"
          ]
        }
      ]
    },
    {
      "cell_type": "markdown",
      "source": [
        "Functional API:"
      ],
      "metadata": {
        "id": "ldokwrPgXaE4"
      }
    },
    {
      "cell_type": "code",
      "source": [
        "import tensorflow as tf\n",
        "mnist = tf.keras.datasets.mnist\n",
        "#--------------------\n",
        "(x_train, y_train),(x_test, y_test) = mnist.load_data()\n",
        "x_train, x_test = x_train / 255.0, x_test / 255.0\n",
        "#--------------------\n",
        "model = tf.keras.models.Sequential([\n",
        "tf.keras.layers.Flatten(input_shape=(28, 28)),\n",
        "tf.keras.layers.Dense(128, activation='relu'),\n",
        "tf.keras.layers.Dropout(0.2),\n",
        "tf.keras.layers.Dense(10, activation='softmax')\n",
        "])\n",
        "#--------------------\n",
        "model.compile(optimizer='adam',\n",
        "loss='sparse_categorical_crossentropy',\n",
        "metrics=['accuracy'])\n",
        "#--------------------\n",
        "model.fit(x_train, y_train, epochs=5)\n",
        "model.evaluate(x_test, y_test)"
      ],
      "metadata": {
        "colab": {
          "base_uri": "https://localhost:8080/"
        },
        "id": "p11evfWGXcq3",
        "outputId": "5b4ec175-f168-4e41-f43a-d61f8d3d7330"
      },
      "execution_count": 29,
      "outputs": [
        {
          "output_type": "stream",
          "name": "stdout",
          "text": [
            "Epoch 1/5\n",
            "1875/1875 [==============================] - 12s 6ms/step - loss: 0.2948 - accuracy: 0.9133\n",
            "Epoch 2/5\n",
            "1875/1875 [==============================] - 9s 5ms/step - loss: 0.1420 - accuracy: 0.9581\n",
            "Epoch 3/5\n",
            "1875/1875 [==============================] - 10s 6ms/step - loss: 0.1079 - accuracy: 0.9678\n",
            "Epoch 4/5\n",
            "1875/1875 [==============================] - 11s 6ms/step - loss: 0.0878 - accuracy: 0.9732\n",
            "Epoch 5/5\n",
            "1875/1875 [==============================] - 11s 6ms/step - loss: 0.0769 - accuracy: 0.9762\n",
            "313/313 [==============================] - 1s 3ms/step - loss: 0.0717 - accuracy: 0.9766\n"
          ]
        },
        {
          "output_type": "execute_result",
          "data": {
            "text/plain": [
              "[0.07170568406581879, 0.9765999913215637]"
            ]
          },
          "metadata": {},
          "execution_count": 29
        }
      ]
    },
    {
      "cell_type": "markdown",
      "source": [
        "KERAS:"
      ],
      "metadata": {
        "id": "4bveZGIIZyfC"
      }
    },
    {
      "cell_type": "code",
      "source": [
        "import numpy as np\n",
        "import tensorflow as tf\n",
        "from tensorflow import keras\n",
        "from tensorflow.keras import layers\n",
        "#--------------------\n",
        "inputs = keras.Input(shape=(784,)) #2^3*7^2\n",
        "#--------------------\n",
        "dense = layers.Dense(64, activation=\"relu\")\n",
        "x = dense(inputs)\n",
        "#--------------------\n",
        "y = layers.Dense(64, activation=\"relu\")(x)\n",
        "outputs = layers.Dense(10)(y)\n",
        "#--------------------\n",
        "model = keras.Model(inputs=inputs, outputs=outputs, name=\"mnist_model\")\n",
        "keras.utils.plot_model(model, r\"my_first_model.png\")\n",
        "keras.utils.plot_model(model, r\"my_first_model_with_shape_info.png\", show_shapes=True)\n",
        "#--------------------\n",
        "(x_train, y_train), (x_test, y_test) = keras.datasets.mnist.load_data()\n",
        "#--------------------\n",
        "x_train = x_train.reshape(60000, 784).astype(\"float32\") / 255\n",
        "x_test = x_test.reshape(10000, 784).astype(\"float32\") / 255\n",
        "#--------------------\n",
        "model.compile(\n",
        "loss=keras.losses.SparseCategoricalCrossentropy(from_logits=True),\n",
        "optimizer=keras.optimizers.RMSprop(),\n",
        "metrics=[\"accuracy\"])\n",
        "#--------------------\n",
        "history = model.fit(x_train, y_train, batch_size=64, epochs=2, validation_split=0.2)\n",
        "#--------------------\n",
        "test_scores = model.evaluate(x_test, y_test, verbose=2)\n",
        "print(\"Test loss:\", test_scores[0])\n",
        "print(\"Test accuracy:\", test_scores[1])\n",
        "#--------------------\n",
        "model.save(r\"keras_model.mdl\")\n",
        "del model\n",
        "# Recreate the exact same model purely from the file:\n",
        "model2 = keras.models.load_model(r\"keras_model.mdl\")\n",
        "model2.summary()"
      ],
      "metadata": {
        "colab": {
          "base_uri": "https://localhost:8080/"
        },
        "id": "PsOR-0bdZ00-",
        "outputId": "58d850a2-f197-455d-af69-d2ddc2bb0feb"
      },
      "execution_count": 39,
      "outputs": [
        {
          "output_type": "stream",
          "name": "stdout",
          "text": [
            "Epoch 1/2\n",
            "750/750 [==============================] - 5s 6ms/step - loss: 0.3507 - accuracy: 0.9006 - val_loss: 0.1860 - val_accuracy: 0.9450\n",
            "Epoch 2/2\n",
            "750/750 [==============================] - 4s 6ms/step - loss: 0.1611 - accuracy: 0.9522 - val_loss: 0.1413 - val_accuracy: 0.9568\n",
            "313/313 - 1s - loss: 0.1354 - accuracy: 0.9595 - 994ms/epoch - 3ms/step\n",
            "Test loss: 0.13538767397403717\n",
            "Test accuracy: 0.9595000147819519\n"
          ]
        },
        {
          "output_type": "stream",
          "name": "stderr",
          "text": [
            "WARNING:absl:Found untraced functions such as _update_step_xla while saving (showing 1 of 1). These functions will not be directly callable after loading.\n"
          ]
        },
        {
          "output_type": "stream",
          "name": "stdout",
          "text": [
            "Model: \"mnist_model\"\n",
            "_________________________________________________________________\n",
            " Layer (type)                Output Shape              Param #   \n",
            "=================================================================\n",
            " input_10 (InputLayer)       [(None, 784)]             0         \n",
            "                                                                 \n",
            " dense_27 (Dense)            (None, 64)                50240     \n",
            "                                                                 \n",
            " dense_28 (Dense)            (None, 64)                4160      \n",
            "                                                                 \n",
            " dense_29 (Dense)            (None, 10)                650       \n",
            "                                                                 \n",
            "=================================================================\n",
            "Total params: 55,050\n",
            "Trainable params: 55,050\n",
            "Non-trainable params: 0\n",
            "_________________________________________________________________\n"
          ]
        }
      ]
    }
  ]
}